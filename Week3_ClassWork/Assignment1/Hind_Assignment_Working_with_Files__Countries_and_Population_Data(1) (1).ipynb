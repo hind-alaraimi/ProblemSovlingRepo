{
  "nbformat": 4,
  "nbformat_minor": 0,
  "metadata": {
    "colab": {
      "provenance": []
    },
    "kernelspec": {
      "name": "python3",
      "display_name": "Python 3"
    },
    "language_info": {
      "name": "python"
    }
  },
  "cells": [
    {
      "cell_type": "code",
      "execution_count": 88,
      "metadata": {
        "id": "cdiurbCq4h8z"
      },
      "outputs": [],
      "source": [
        "file = open(\"countries_population.txt\",\"r\")\n",
        "lines = file.readlines()\n",
        "file.close()"
      ]
    },
    {
      "cell_type": "code",
      "source": [
        "d = {}\n",
        "for line in lines:\n",
        "    line = line.strip()\n",
        "    if line:\n",
        "        parts = line.split(\",\")\n",
        "        if len(parts) == 2:\n",
        "            country = parts[0]\n",
        "            population = int(parts[1])\n",
        "            d[country] = population\n",
        "\n",
        "print(d)"
      ],
      "metadata": {
        "colab": {
          "base_uri": "https://localhost:8080/"
        },
        "id": "rW-XdTqLKO-7",
        "outputId": "f6730020-d60c-4a30-e207-8d97c564b62d"
      },
      "execution_count": 63,
      "outputs": [
        {
          "output_type": "stream",
          "name": "stdout",
          "text": [
            "{'USA': 331002651, 'India': 1380004385, 'China': 1439323776, 'Brazil': 212559417, 'Nigeria': 206139589, 'Germany': 83783942, 'Russia': 145934462, 'Japan': 126476461, 'Mexico': 128933395, 'Indonesia': 273523615}\n"
          ]
        }
      ]
    },
    {
      "cell_type": "code",
      "source": [
        "print(\"Total number of countries:\", len(d))"
      ],
      "metadata": {
        "colab": {
          "base_uri": "https://localhost:8080/"
        },
        "id": "Lp6Afj3eJjfh",
        "outputId": "00d65458-d583-4486-865c-e5ee9f4c3675"
      },
      "execution_count": 64,
      "outputs": [
        {
          "output_type": "stream",
          "name": "stdout",
          "text": [
            "Total number of countries: 10\n"
          ]
        }
      ]
    },
    {
      "cell_type": "code",
      "source": [
        "print(\"Country with the highest population:\",max(d,key=d.get))"
      ],
      "metadata": {
        "colab": {
          "base_uri": "https://localhost:8080/"
        },
        "id": "pxRGxS4DJbo3",
        "outputId": "6a76adba-a3b9-4fef-c7c7-c55ca12c7ef2"
      },
      "execution_count": 65,
      "outputs": [
        {
          "output_type": "stream",
          "name": "stdout",
          "text": [
            "Country with the highest population: China\n"
          ]
        }
      ]
    },
    {
      "cell_type": "code",
      "source": [
        "print(\"Country with the highest population:\",min(d,key=d.get))"
      ],
      "metadata": {
        "colab": {
          "base_uri": "https://localhost:8080/"
        },
        "id": "v3TDL_1RMG6F",
        "outputId": "33cb1a7c-36f3-4d93-b750-0a78e3a83cd4"
      },
      "execution_count": 66,
      "outputs": [
        {
          "output_type": "stream",
          "name": "stdout",
          "text": [
            "Country with the highest population: Germany\n"
          ]
        }
      ]
    },
    {
      "cell_type": "code",
      "source": [
        "print(\"The average population:\",sum(d.values())/len(d))"
      ],
      "metadata": {
        "colab": {
          "base_uri": "https://localhost:8080/"
        },
        "id": "OeAVTYBVMFoA",
        "outputId": "2666ab81-32c4-4b32-f403-bd180712c152"
      },
      "execution_count": 67,
      "outputs": [
        {
          "output_type": "stream",
          "name": "stdout",
          "text": [
            "The average population: 432768169.3\n"
          ]
        }
      ]
    },
    {
      "cell_type": "code",
      "source": [
        "sortD = sorted(d.items(),reverse=True, key=lambda item: item[1])[:5]\n",
        "for i in sortD:\n",
        "  lst = []\n",
        "  for j in i:\n",
        "    lst.append(j)\n",
        "  print(lst[0])"
      ],
      "metadata": {
        "colab": {
          "base_uri": "https://localhost:8080/"
        },
        "id": "9n3ggPHCMCp2",
        "outputId": "8dcbb472-5f73-451f-9c10-e57b9281d11a"
      },
      "execution_count": 86,
      "outputs": [
        {
          "output_type": "stream",
          "name": "stdout",
          "text": [
            "China\n",
            "India\n",
            "USA\n",
            "Indonesia\n",
            "Brazil\n"
          ]
        }
      ]
    },
    {
      "cell_type": "code",
      "source": [
        "NewCountries = open('high_population_countries.txt','w')\n",
        "for country, population in d.items():\n",
        "    if population > 500000000:\n",
        "        nc = country\n",
        "        NewCountries.write(nc + '\\n')\n",
        "NewCountries.close()\n",
        "\n",
        "print(nc)"
      ],
      "metadata": {
        "colab": {
          "base_uri": "https://localhost:8080/"
        },
        "id": "r5gHzl2IPChQ",
        "outputId": "a459dedb-3785-4d8a-dd47-15b291068415"
      },
      "execution_count": 95,
      "outputs": [
        {
          "output_type": "stream",
          "name": "stdout",
          "text": [
            "China\n"
          ]
        }
      ]
    },
    {
      "cell_type": "code",
      "source": [],
      "metadata": {
        "id": "pl6nasf5OipN"
      },
      "execution_count": null,
      "outputs": []
    },
    {
      "cell_type": "code",
      "source": [],
      "metadata": {
        "id": "uJ8XJ8bWGj6L"
      },
      "execution_count": null,
      "outputs": []
    }
  ]
}